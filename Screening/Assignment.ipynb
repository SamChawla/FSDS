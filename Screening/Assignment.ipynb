{
 "cells": [
  {
   "cell_type": "code",
   "execution_count": 2,
   "id": "f3df0fe6",
   "metadata": {},
   "outputs": [
    {
     "name": "stdout",
     "output_type": "stream",
     "text": [
      "This is a screening assignment\n"
     ]
    }
   ],
   "source": [
    "# Create a function in python to read the text file and replace specific content of the file.\n",
    "with open(\"example.txt\", \"r\") as f:\n",
    "    file = f.read()\n",
    "    file = file.replace('placement', 'screening')\n",
    "    print(file)"
   ]
  },
  {
   "cell_type": "code",
   "execution_count": 4,
   "id": "7619f76b",
   "metadata": {},
   "outputs": [],
   "source": [
    "from uuid import uuid4\n",
    "\n",
    "class User:\n",
    "    #Here attributes defined are private so as to keep the access restricted to the class.\n",
    "    def __init__(self, username):\n",
    "        self.__user_id = uuid4()\n",
    "        self.__username = username\n",
    "        self.__is_active = True\n",
    "    \n",
    "    #getter for username\n",
    "    @property\n",
    "    def username(self):\n",
    "        return self.__username\n",
    "    \n",
    "    #getter for is_active\n",
    "    @property\n",
    "    def is_active(self):\n",
    "        return self.__is_active \n",
    "\n",
    "    @property\n",
    "    def user_id(self):\n",
    "        return self.__user_id \n",
    "    \n",
    "    #method for string representation of the user object\n",
    "    def __str__(self):\n",
    "        return f\"username : {self.__username}\""
   ]
  },
  {
   "cell_type": "code",
   "execution_count": 6,
   "id": "bdbbe7ce",
   "metadata": {},
   "outputs": [
    {
     "data": {
      "text/plain": [
       "True"
      ]
     },
     "execution_count": 6,
     "metadata": {},
     "output_type": "execute_result"
    }
   ],
   "source": [
    "# Demonstration of Abstract Class and Decorator\n",
    "\n",
    "from abc import ABC, abstractmethod\n",
    "  \n",
    "\"\"\"\n",
    "UserService : Interface for defining user related operations\n",
    "\"\"\"\n",
    "class UserService(ABC):\n",
    "    \n",
    "    @abstractmethod\n",
    "    def add_user(self, username):\n",
    "        pass\n",
    "    \n",
    "    \n",
    "    @abstractmethod\n",
    "    def deactivate_user(self, user_id):\n",
    "        pass\n",
    "\n",
    "\n",
    "class UserServiceImpl(UserService):\n",
    "    #user db for storing user related in dict format where key is user_id and value is user object\n",
    "    \n",
    "    user_db = dict()\n",
    "\n",
    "    def add_user(self, username):\n",
    "        user = User(username)\n",
    "        self.user_db[user.user_id] = user    \n",
    "        return True\n",
    "        \n",
    "    \n",
    "    def deactivate_user(self, user_id):\n",
    "        if user_id not in self.user_db:\n",
    "            return False\n",
    "        else:\n",
    "            self.user_db[user_id].is_active = False\n",
    "\n",
    "\n",
    "user = UserServiceImpl()\n",
    "user.add_user('Sumit')"
   ]
  },
  {
   "cell_type": "code",
   "execution_count": 24,
   "id": "97ce125b",
   "metadata": {},
   "outputs": [
    {
     "name": "stdout",
     "output_type": "stream",
     "text": [
      "Child method called\n",
      "Father's method called\n",
      "Mother's method called\n"
     ]
    }
   ],
   "source": [
    "# Multiple Inheritance\n",
    "\n",
    "class Father:\n",
    "\n",
    "    def get_call(self):\n",
    "        print(\"Father's method called\")\n",
    "\n",
    "class Mother:\n",
    "    def get_call(self):\n",
    "        print(\"Mother's method called\")\n",
    "\n",
    "    def method_call(self):\n",
    "        print(\"Mother's method called\")\n",
    "\n",
    "\n",
    "class Child(Father, Mother):\n",
    "\n",
    "    def get_call(self):\n",
    "        print(\"Child method called\")\n",
    "        super(Child, self).get_call()\n",
    "\n",
    "\n",
    "c1 = Child()\n",
    "c1.get_call()\n",
    "c1.method_call()\n"
   ]
  },
  {
   "cell_type": "code",
   "execution_count": 25,
   "id": "c5badc16",
   "metadata": {},
   "outputs": [],
   "source": [
    "### Decorator\n",
    "def message(func):\n",
    "    def wrapper():\n",
    "        print(\"TEST DECORATOR\")\n",
    "        func()\n",
    "    return wrapper()"
   ]
  },
  {
   "cell_type": "code",
   "execution_count": 26,
   "id": "0242de07",
   "metadata": {},
   "outputs": [
    {
     "name": "stdout",
     "output_type": "stream",
     "text": [
      "TEST DECORATOR\n"
     ]
    }
   ],
   "source": [
    "@message\n",
    "def test_message():\n",
    "    pass"
   ]
  },
  {
   "cell_type": "code",
   "execution_count": null,
   "id": "9ece3e10",
   "metadata": {},
   "outputs": [],
   "source": []
  }
 ],
 "metadata": {
  "kernelspec": {
   "display_name": "Python 3",
   "language": "python",
   "name": "python3"
  },
  "language_info": {
   "codemirror_mode": {
    "name": "ipython",
    "version": 3
   },
   "file_extension": ".py",
   "mimetype": "text/x-python",
   "name": "python",
   "nbconvert_exporter": "python",
   "pygments_lexer": "ipython3",
   "version": "3.8.8"
  }
 },
 "nbformat": 4,
 "nbformat_minor": 5
}
