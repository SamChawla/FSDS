{
 "cells": [
  {
   "cell_type": "markdown",
   "id": "a6851ee0",
   "metadata": {},
   "source": [
    "### Q.1 What are the two values of the Boolean data type? How do you write them?\n",
    "\n",
    "__Ans__: True, False"
   ]
  },
  {
   "cell_type": "markdown",
   "id": "292f5aa6",
   "metadata": {},
   "source": [
    "### Q.2. What are the three different types of Boolean operators?\n",
    "\n",
    "__Ans__: and, or, not"
   ]
  },
  {
   "cell_type": "markdown",
   "id": "f5cb0636",
   "metadata": {},
   "source": [
    "### Q.3. Make a list of each Boolean operator's truth tables (i.e. every possible combination of Boolean values for the operator and what it evaluate ).\n",
    "\n",
    "__Ans__:  \n",
    "\n",
    "|Operator1|Type| Operator2| Result|\n",
    "|:---:|:---:|:---:|:---:|\n",
    "|True|and|True|True|\n",
    "|True|and|False|False|\n",
    "|False|and|False|False|\n",
    "|---|---|---|---|\n",
    "|True|or|True|True|\n",
    "|True|or|False|True|\n",
    "|False|or|False|False|\n",
    "|---|---|---|---|\n",
    "|---|not|True|False|\n",
    "|---|not|False|True|"
   ]
  },
  {
   "cell_type": "markdown",
   "id": "9ec3e93e",
   "metadata": {},
   "source": [
    "### Q.4.  What are the values of the following expressions?\n",
    "\n",
    "__Ans__:\n",
    "\n",
    "|Expression| Result|\n",
    "|:---|:---:|\n",
    "|(5 > 4) and (3 == 5)| False|\n",
    "| not (5 > 4) | False|\n",
    "|(5 > 4) or (3 == 5) | True|\n",
    "| not ((5 > 4) or (3 == 5)) | False | \n",
    "|(True and True) and (True == False) | False|\n",
    "| (not False) or (not True) | True | "
   ]
  },
  {
   "cell_type": "markdown",
   "id": "e4749d10",
   "metadata": {},
   "source": [
    "### Q.5. What are the six comparison operators?\n",
    "\n",
    "__Ans__:\n",
    "\n",
    "|Operator| --|\n",
    "|:---|:---:|\n",
    "| Equal to | == |\n",
    "| Not Equal to | != |\n",
    "| Less than | < |\n",
    "| Greater than | > |\n",
    "| Less than or equal to | <= |\n",
    "| Greater than or equal to | >= |"
   ]
  },
  {
   "cell_type": "markdown",
   "id": "1ee215d7",
   "metadata": {},
   "source": [
    "### Q.6. How do you tell the difference between the equal to and assignment operators?Describe a condition and when you would use one.\n",
    "\n",
    "__Ans__:\n",
    "\n",
    "- Equal to (==) operator is used to compares two values. e.g True==True\n",
    "- Assignment (=) operator is used to store a value in a variable. e.g  a=True"
   ]
  },
  {
   "cell_type": "markdown",
   "id": "50ed2f75",
   "metadata": {},
   "source": [
    "### Q.7. Identify the three blocks in this code:\n",
    "\n",
    "```python\n",
    "spam = 0\n",
    "if spam == 10:\n",
    "    print('eggs')\n",
    "if spam > 5:\n",
    "    print('bacon')\n",
    "else:\n",
    "    print('ham')\n",
    "    print('spam')\n",
    "    print('spam')\n",
    "```\n",
    "\n",
    "__Ans__:\n",
    "\n",
    "```python\n",
    "spam = 0\n",
    "# Block 1\n",
    "if spam == 10:\n",
    "    print('eggs')\n",
    "# Block 2\n",
    "if spam > 5:\n",
    "    print('bacon')\n",
    "# Block 3\n",
    "else:\n",
    "    print('ham')\n",
    "    print('spam')\n",
    "    print('spam')\n",
    "```\n"
   ]
  },
  {
   "cell_type": "markdown",
   "id": "628a5de3",
   "metadata": {},
   "source": [
    "### Q.8. Write code that prints Hello if 1 is stored in spam, prints Howdy if 2 is stored in spam, and prints Greetings! if anything else is stored in spam.\n",
    "\n",
    "__Ans__:\n",
    "```python\n",
    "spam = int(input())\n",
    "if spam == 1:\n",
    "    print('Hello')\n",
    "if spam == 2:\n",
    "    print('Howdy')\n",
    "else:\n",
    "    print('Greetings!')\n",
    "```"
   ]
  },
  {
   "cell_type": "markdown",
   "id": "f8876348",
   "metadata": {},
   "source": [
    "### Q.9. If your programme is stuck in an endless loop, what keys you’ll press?\n",
    "__Ans__:\n",
    "\n",
    "`Ctrl + C` is used to kill the program."
   ]
  },
  {
   "cell_type": "markdown",
   "id": "f13edf6d",
   "metadata": {},
   "source": [
    "### Q.10. How can you tell the difference between break and continue?\n",
    "__Ans__:\n",
    "\n",
    "- break : It is used to break the loop and exit the statement.\n",
    "\n",
    "- continue : It skips the rest of the statements inside a loop, and continues with the next iteration."
   ]
  },
  {
   "cell_type": "markdown",
   "id": "0cf329f7",
   "metadata": {},
   "source": [
    "### Q.11. In a for loop, what is the difference between range(10), range(0, 10), and range(0, 10, 1)?\n",
    "__Ans__:\n",
    "\n",
    "All would return the same output.\n",
    "\n",
    "- `range(10)`       : start :0, and step size :1 default values taken\n",
    "- `range(0, 10)`    :  step size :1 default value taken\n",
    "- `range(0, 10, 1)` : all values explicitly defined\n"
   ]
  },
  {
   "cell_type": "markdown",
   "id": "fbb46f63",
   "metadata": {},
   "source": [
    "### Q.12. Write a short program that prints the numbers 1 to 10 using a for loop. Then write an equivalent program that prints the numbers 1 to 10 using a while loop.\n",
    "__Ans__:\n",
    "\n",
    "```python\n",
    "# For loop\n",
    "\n",
    "for val in range(1, 11):\n",
    "    print(val)\n",
    "\n",
    "# While loop\n",
    "val=1\n",
    "while val <= 10:\n",
    "    print(val)\n",
    "    val+=1\n",
    "```"
   ]
  },
  {
   "cell_type": "markdown",
   "id": "19367be1",
   "metadata": {},
   "source": [
    "### Q.13. If you had a function named bacon() inside a module named spam, how would you call it after importing spam?\n",
    "__Ans__:\n",
    "```python\n",
    "import spam\n",
    "\n",
    "spam.bacon()\n",
    "```"
   ]
  }
 ],
 "metadata": {
  "kernelspec": {
   "display_name": "Python 3",
   "language": "python",
   "name": "python3"
  },
  "language_info": {
   "codemirror_mode": {
    "name": "ipython",
    "version": 3
   },
   "file_extension": ".py",
   "mimetype": "text/x-python",
   "name": "python",
   "nbconvert_exporter": "python",
   "pygments_lexer": "ipython3",
   "version": "3.8.8"
  }
 },
 "nbformat": 4,
 "nbformat_minor": 5
}
