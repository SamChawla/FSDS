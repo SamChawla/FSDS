{
 "cells": [
  {
   "cell_type": "markdown",
   "id": "4d2ed0e4",
   "metadata": {},
   "source": [
    "### Q.1.What exactly is `[ ]`?\n",
    "\n",
    "__Ans__: `[]` represents an empty list or a list that contains no items."
   ]
  },
  {
   "cell_type": "markdown",
   "id": "b6e56852",
   "metadata": {},
   "source": [
    "### Q.2.In a list of values stored in a variable called `spam`, how would you assign the value 'hello' as the third value? (Assume `[2, 4, 6, 8, 10]` are in spam.) \n",
    "\n",
    "__Ans__: We can do it by assigning it like `spam[2]='hello'`"
   ]
  },
  {
   "cell_type": "markdown",
   "id": "423f2578",
   "metadata": {},
   "source": [
    "### Let's pretend the spam includes the list ['a','b','c',d'] for the next three queries."
   ]
  },
  {
   "cell_type": "markdown",
   "id": "c3093377",
   "metadata": {},
   "source": [
    "### Q.3. What is the value of `spam[int(int('3'*2)//11)]` ?\n",
    "\n",
    "__Ans__: We will get `'d'` \n",
    "\n",
    "Explanation:\n",
    "\n",
    "- `spam[int(int('3'*2)//11)]`\n",
    "\n",
    "- '3'*2 = '33' -> int('33') -> 33\n",
    "- int(33)//11 = 3\n",
    "- spam[3] = 'd'"
   ]
  },
  {
   "cell_type": "code",
   "execution_count": 2,
   "id": "338984fe",
   "metadata": {},
   "outputs": [
    {
     "name": "stdout",
     "output_type": "stream",
     "text": [
      "spam[int(int('3'*2)//11)] = d\n"
     ]
    }
   ],
   "source": [
    "spam=['a','b','c','d']\n",
    "\n",
    "print(f\"spam[int(int('3'*2)//11)] = {spam[int(int('3'*2)//11)]}\")"
   ]
  },
  {
   "cell_type": "markdown",
   "id": "9e1182c8",
   "metadata": {},
   "source": [
    "### Q.4. What is the value of spam[-1]?\n",
    "\n",
    "__Ans__: `'d'` (last value of spam)"
   ]
  },
  {
   "cell_type": "code",
   "execution_count": 3,
   "id": "ee415de9",
   "metadata": {},
   "outputs": [
    {
     "name": "stdout",
     "output_type": "stream",
     "text": [
      "spam[-1] =  d\n"
     ]
    }
   ],
   "source": [
    "print('spam[-1] = ',spam[-1])"
   ]
  },
  {
   "cell_type": "markdown",
   "id": "95920e0b",
   "metadata": {},
   "source": [
    "### Q.5. What is the value of spam[:2]?\n",
    "\n",
    "__Ans__: `spam[:2]` will returns all elements in spam from 0 through 2 excluding 2"
   ]
  },
  {
   "cell_type": "markdown",
   "id": "0c597670",
   "metadata": {},
   "source": [
    "### Let's pretend bacon has the list `[3.14,'cat',11,'cat',True]` for the next three question"
   ]
  },
  {
   "cell_type": "code",
   "execution_count": 4,
   "id": "2b05d37c",
   "metadata": {},
   "outputs": [],
   "source": [
    "bacon = [3.14,'cat',11,'cat',True]"
   ]
  },
  {
   "cell_type": "markdown",
   "id": "4532aa75",
   "metadata": {},
   "source": [
    "### Q.6. What is the value of bacon.index('cat')?\n",
    "\n",
    "__Ans__: The value of `bacon.index('cat')` is `1` as it returns the first occurance index."
   ]
  },
  {
   "cell_type": "code",
   "execution_count": 5,
   "id": "540150b2",
   "metadata": {},
   "outputs": [
    {
     "name": "stdout",
     "output_type": "stream",
     "text": [
      "bacon.index('cat') = 1\n"
     ]
    }
   ],
   "source": [
    "print(f\"bacon.index('cat') = {bacon.index('cat')}\")"
   ]
  },
  {
   "cell_type": "markdown",
   "id": "a6315daa",
   "metadata": {},
   "source": [
    "### Q.7. How does bacon.append(99) change the look of the list value in bacon?\n",
    "\n",
    "__Ans__: The `append` method adds new elements to the end of the list.So, the new list will be: `[3.14,'cat',11,'cat',True,99]`"
   ]
  },
  {
   "cell_type": "code",
   "execution_count": 6,
   "id": "be0ebd05",
   "metadata": {},
   "outputs": [
    {
     "name": "stdout",
     "output_type": "stream",
     "text": [
      "Bacon Before Append: [3.14, 'cat', 11, 'cat', True]\n",
      "Bacon After Append: [3.14, 'cat', 11, 'cat', True, 99]\n"
     ]
    }
   ],
   "source": [
    "print(f\"Bacon Before Append: {bacon}\")\n",
    "bacon.append(99)\n",
    "print(f\"Bacon After Append: {bacon}\")"
   ]
  },
  {
   "cell_type": "markdown",
   "id": "85e81927",
   "metadata": {},
   "source": [
    "### Q.8. How does bacon.remove('cat') change the look of the list in bacon?\n",
    "\n",
    "__Ans__: The `remove` method removes the first occurence of the element in the list. So, the new list will be: `[3.14,11,'cat',True,99]`"
   ]
  },
  {
   "cell_type": "code",
   "execution_count": 7,
   "id": "c3aca074",
   "metadata": {},
   "outputs": [
    {
     "name": "stdout",
     "output_type": "stream",
     "text": [
      "Bacon Before Remove: [3.14, 'cat', 11, 'cat', True, 99]\n",
      "Bacon After Remove: [3.14, 'cat', 11, 'cat', True]\n"
     ]
    }
   ],
   "source": [
    "print(f\"Bacon Before Remove: {bacon}\")\n",
    "bacon.remove(99)\n",
    "print(f\"Bacon After Remove: {bacon}\")"
   ]
  },
  {
   "cell_type": "markdown",
   "id": "cdbe3c4a",
   "metadata": {},
   "source": [
    "### Q.9.what are the list concatenation and list replication operations?\n",
    "\n",
    "__Ans__: list concatenation operations include `+`, while the operator for replication is `*`. (This is the same as for strings.)"
   ]
  },
  {
   "cell_type": "code",
   "execution_count": 9,
   "id": "bd9dc39a",
   "metadata": {},
   "outputs": [
    {
     "name": "stdout",
     "output_type": "stream",
     "text": [
      "List Concatenation of list_1 & list_2: ['1', '2', '3', '4', '5', 'a', 'b', 'c']\n",
      "List Replication of list_1 : ['1', '2', '3', '4', '5', '1', '2', '3', '4', '5']\n"
     ]
    }
   ],
   "source": [
    "# Sample\n",
    "\n",
    "list_1 = ['1','2','3','4','5']\n",
    "list_2 = ['a','b','c']\n",
    "print(f\"List Concatenation of list_1 & list_2: {list_1 + list_2}\")\n",
    "print(f\"List Replication of list_1 : {list_1*2}\")"
   ]
  },
  {
   "cell_type": "markdown",
   "id": "d4f9b87c",
   "metadata": {},
   "source": [
    "### Q.10.what is the difference between the list method append() and insert()?\n",
    "\n",
    "__Ans__: `append()` adds value only to the end of a list while `insert()` can add items anywhere in the list using index."
   ]
  },
  {
   "cell_type": "markdown",
   "id": "3b178c74",
   "metadata": {},
   "source": [
    "### Q.11. What are the two methods for removing items from a list?\n",
    "\n",
    "__Ans__: The two methods for removing items from a list are `del` and `remove()` method."
   ]
  },
  {
   "cell_type": "markdown",
   "id": "3811c0e8",
   "metadata": {},
   "source": [
    "### Q.12. Describe how list values and string values are identical.\n",
    "\n",
    "__Ans__: Following are the similar points in list values and string values:\n",
    "- Both lists and strings can be passed to `len()` function.\n",
    "- Both have indexes and slices.\n",
    "- They can be used in `for` loops.\n",
    "- It can be concatenated or replicated, and be used with the `in` and `not in` operators."
   ]
  },
  {
   "cell_type": "markdown",
   "id": "4845136b",
   "metadata": {},
   "source": [
    "### Q.13. What's the difference between tuples and lists?\n",
    "\n",
    "__Ans__: \n",
    "\n",
    "|Lists |Tuples|\n",
    "|:---:|:---:|\n",
    "|List are mutable | Tuples are immutable|\n",
    "|Inserting and deleting items is easier with a list. | Accessing the elements is best accomplished with a tuple data type. |\n",
    "|Lists have several built-in methods. |A tuple does not have many built-in methods because of immutability |\n",
    "|Lists consume more memory| Tuple consumes less than the list|\n"
   ]
  },
  {
   "cell_type": "markdown",
   "id": "7fa16181",
   "metadata": {},
   "source": [
    "### Q.14. How do you type a tuple value that only contains the integer 42?\n",
    "\n",
    "__Ans__: (42,)"
   ]
  },
  {
   "cell_type": "markdown",
   "id": "42d87c87",
   "metadata": {},
   "source": [
    "### Q.15. How do you get a list value's tuple form? How do you get a tuple value's list form?\n",
    "\n",
    "__Ans__: The `tuple()` and `list()` functions, respectively are used to convert a list to tuple and vice versa."
   ]
  },
  {
   "cell_type": "markdown",
   "id": "eac0fa89",
   "metadata": {},
   "source": [
    "### Q.16. Variables that \"contain\" list values are not necessarily lists themselves. Instead, what do they contain?\n",
    "\n",
    "__Ans__: They contain references to list values."
   ]
  },
  {
   "cell_type": "markdown",
   "id": "c0f78aa7",
   "metadata": {},
   "source": [
    "### Q.17. How do you distinguish between copy.copy() and copy.deepcopy()?\n",
    "\n",
    "__Ans__ The `copy.copy()` function does shallow copy of a list, while the `copy.deepcopy()` function will do a deep copy of a list. "
   ]
  }
 ],
 "metadata": {
  "kernelspec": {
   "display_name": "Python 3.8.10 64-bit",
   "language": "python",
   "name": "python3"
  },
  "language_info": {
   "codemirror_mode": {
    "name": "ipython",
    "version": 3
   },
   "file_extension": ".py",
   "mimetype": "text/x-python",
   "name": "python",
   "nbconvert_exporter": "python",
   "pygments_lexer": "ipython3",
   "version": "3.8.10"
  },
  "vscode": {
   "interpreter": {
    "hash": "916dbcbb3f70747c44a77c7bcd40155683ae19c65e1c03b4aa3499c5328201f1"
   }
  }
 },
 "nbformat": 4,
 "nbformat_minor": 5
}
