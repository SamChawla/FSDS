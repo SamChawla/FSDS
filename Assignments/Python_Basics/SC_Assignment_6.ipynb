{
 "cells": [
  {
   "cell_type": "markdown",
   "metadata": {},
   "source": [
    "### Q.1. What are Escape characters ? and how do you use them ?\n",
    "\n",
    "__Ans__: Escape characters represent characters in string values that would otherwise be difficult or impossible to type into code. we can use the backslash `character` to escape a single character or symbol  \n",
    "\n",
    "**example:** \n",
    "\n",
    "`\n",
    "\\n: represents a newline character\n",
    "\\t: represents a tab character\n",
    "\\': represents a single quote character\n",
    "\\\": represents a double quote character\n",
    "\\\\: represents a backslash character\n",
    "`"
   ]
  },
  {
   "cell_type": "markdown",
   "metadata": {},
   "source": [
    "### Q.2. What do the escape characters n and t stand for ?\n",
    "\n",
    "__Ans__: \n",
    "\n",
    "- `\\n`: represents a newline character\n",
    "- `\\t`: represents a tab character"
   ]
  },
  {
   "cell_type": "markdown",
   "metadata": {},
   "source": [
    "### Q.3. What is the way to include backslash character in a string?\n",
    "\n",
    "__Ans__: The `\\\\` escape character will represent the backslash character in a string"
   ]
  },
  {
   "cell_type": "markdown",
   "metadata": {},
   "source": [
    "### Q.4. The string \"Howl's Moving Castle\" is a correct value. Why isn't the single quote character in the word Howl's not escaped a problem ?\n",
    "\n",
    "__Ans__: The string `\"Howl's Moving Castle\"` is wrapped in double quotes. If we wrap it inside single quotes then we'll have to use escape character `\\` to show single quote in the final output:\n",
    "\n",
    "`'Howl\\'s Moving Castle'` **`->`** `'Howl's Moving Castle'`"
   ]
  },
  {
   "cell_type": "markdown",
   "metadata": {},
   "source": [
    "### Q.5. How do you write a string of newlines if you don't want to use the n character?\n",
    "\n",
    "__Ans__: We can use Multiline string incase if we want to skip `\\n`\n",
    "\n",
    "Example:\n",
    "```python\n",
    "\"\"\"\n",
    "This is a \n",
    "Multiline \n",
    "Comment\n",
    "\"\"\"\n",
    "```"
   ]
  },
  {
   "cell_type": "markdown",
   "metadata": {},
   "source": [
    "### Q.6. What are the values of the given expressions ?\n",
    "```python\n",
    "'Hello, world!'[1]  \n",
    "'Hello, world!'[0:5]  \n",
    "'Hello, world!'[:5]  \n",
    "'Hello, world!'[3:]\n",
    "```\n",
    "\n",
    "__Ans__:\n",
    "```\n",
    "'Hello, world!'[1]      =>  'e'\n",
    "'Hello, world!'[0:5]    =>  'Hello' \n",
    "'Hello, world!'[:5]     =>  'Hello'\n",
    "'Hello, world!'[3:]     =>  'lo, world!'\n",
    "```"
   ]
  },
  {
   "cell_type": "markdown",
   "metadata": {},
   "source": [
    "### Q.7. What are the values of the following expressions ?\n",
    "```\n",
    "'Hello'.upper()  \n",
    "'Hello'.upper().isupper()  \n",
    "'Hello'.upper().lower()    \n",
    "```\n",
    "\n",
    "__Ans__: The values for the given expressions are:  \n",
    "\n",
    "```\n",
    "'Hello'.upper()              => 'HELLO'  \n",
    "'Hello'.upper().isupper()    =>  True    \n",
    "'Hello'.upper().lower()      => 'hello'  \n",
    "```"
   ]
  },
  {
   "cell_type": "markdown",
   "metadata": {},
   "source": [
    "### Q.8. What are the values of the following expressions ?\n",
    "\n",
    "`'Remember, remember, the fifith of July.'.split()`  \n",
    "`'.join('There can only one'.split())`\n",
    "\n",
    "__Ans__:\n",
    "\n",
    "The values for the given expressions are:  \n",
    "\n",
    "`'Remember, remember, the fifith of July.'.split()`  => `['Remember,', 'remember,', 'the', 'fifith', 'of', 'July.']`  \n",
    "\n",
    "`'-'.join('There can only one'.split())` => `'There-can-only-one'` "
   ]
  },
  {
   "cell_type": "markdown",
   "metadata": {},
   "source": [
    "### Q.9. What are the methods for right-justifying, left-justifying and centering a string ?\n",
    "\n",
    "__Ans__: We can use `rjust()`,`ljust()`,`center()` string methods, respectively"
   ]
  },
  {
   "cell_type": "markdown",
   "metadata": {},
   "source": [
    "### Q.10. What is the best way to remove whitespace characters from the start or end ?\n",
    "\n",
    "__Ans__: We can use `.strip()` to remove it from start and end. Else we can use `lstrip()` and `rstrip()` to remove spaces from right and left side respectively."
   ]
  }
 ],
 "metadata": {
  "kernelspec": {
   "display_name": "Python 3 (ipykernel)",
   "language": "python",
   "name": "python3"
  },
  "language_info": {
   "codemirror_mode": {
    "name": "ipython",
    "version": 3
   },
   "file_extension": ".py",
   "mimetype": "text/x-python",
   "name": "python",
   "nbconvert_exporter": "python",
   "pygments_lexer": "ipython3",
   "version": "3.8.10"
  }
 },
 "nbformat": 4,
 "nbformat_minor": 4
}
