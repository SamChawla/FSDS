{
 "cells": [
  {
   "cell_type": "markdown",
   "metadata": {},
   "source": [
    "### Q.1. Why are functions advantageous to have in your programs?\n",
    "\n",
    "__Ans__: The main advantage of functions is code reusability and modularity. This makes programs abstract and easier to update and debug.\n",
    "     "
   ]
  },
  {
   "cell_type": "markdown",
   "metadata": {},
   "source": [
    "### Q.2. When does the code in a function run: when it's specified or when it's called?\n",
    "\n",
    "__Ans__: The code in a function executes at runtime i.e when the function is called."
   ]
  },
  {
   "cell_type": "markdown",
   "metadata": {},
   "source": [
    "### Q.3. What statement creates a function?\n",
    "\n",
    "__Ans__: The `def` statement defines a function\n",
    "\n",
    "Example:  \n",
    "\n",
    "```python\n",
    " def function_name(arguments):\n",
    "    \"\"\"\n",
    "    doc string\n",
    "    \"\"\"          \n",
    "    #-----function body-----\n",
    "    return value\n",
    "```"
   ]
  },
  {
   "cell_type": "markdown",
   "metadata": {},
   "source": [
    "### Q.4. What is the difference between a function and a function call?\n",
    "\n",
    "__Ans__: A function is a procedure/steps to achieve a specific task while a function call is an instruction that calls the function with required inputs to perform that task."
   ]
  },
  {
   "cell_type": "markdown",
   "metadata": {},
   "source": [
    "### Q.5. How many global scopes are there in a Python program? How many local scopes?\n",
    "\n",
    "__Ans__: \n",
    "- There is one global scope per program. \n",
    "- There can be multiple local scopes in a program. It is created whenever a function is called and destroyed when the function returns."
   ]
  },
  {
   "cell_type": "markdown",
   "metadata": {},
   "source": [
    "### Q.6. What happens to variables in a local scope when the function call returns?\n",
    "\n",
    "__Ans__: A local scope is created whenever a function is called, and it is destroyed when the function returns."
   ]
  },
  {
   "cell_type": "markdown",
   "metadata": {},
   "source": [
    "### Q.7. What is the concept of a return value? Is it possible to have a return value in an expression?\n",
    "\n",
    "__Ans__: A return value is what a function call evaluates to. Like any value, a return value can be an expression."
   ]
  },
  {
   "cell_type": "markdown",
   "metadata": {},
   "source": [
    "### Q.8. If a function does not have a return statement, what is the return value of a call to that function?\n",
    "\n",
    "__Ans__: It returns `None`."
   ]
  },
  {
   "cell_type": "markdown",
   "metadata": {},
   "source": [
    "### Q.9. How do you make a function variable refer to the global variable?\n",
    "\n",
    "__Ans__: Inside a function, we can use `global` keyword to refer to the global varibale instead of local one."
   ]
  },
  {
   "cell_type": "markdown",
   "metadata": {},
   "source": [
    "### Q.10. What is the data type of None?\n",
    "\n",
    "__Ans__: `NoneType`."
   ]
  },
  {
   "cell_type": "markdown",
   "metadata": {},
   "source": [
    "### Q.11. What does the sentence `import areallyourpetsnamederic` do?\n",
    "\n",
    "__Ans__: It will import the module named `areallyourpetsnamederic`."
   ]
  },
  {
   "cell_type": "markdown",
   "metadata": {},
   "source": [
    "### Q.12. If you had a bacon() feature in a spam module, what would you call it after importing spam?\n",
    "\n",
    "__Ans__: TWe can call this function using `spam.bacon()`."
   ]
  },
  {
   "cell_type": "markdown",
   "metadata": {},
   "source": [
    "### Q.13. What can you do to save a programme from crashing if it encounters an error?\n",
    "\n",
    "__Ans__: We can keep our code inside `try` `except` block. So, incase it encounters an error, it will not crash."
   ]
  },
  {
   "cell_type": "markdown",
   "metadata": {},
   "source": [
    "### Q.14. What is the purpose of the try clause? What is the purpose of the except clause?\n",
    "\n",
    "__Ans__: We can write code that might raise an exception inside `try` clause, and then handle the exception gracefully if it occurs. If an exception occurs within the try block, the program jumps to the `except` block, which handles the exception scenario."
   ]
  }
 ],
 "metadata": {
  "kernelspec": {
   "display_name": "Python 3.8.10 64-bit",
   "language": "python",
   "name": "python3"
  },
  "language_info": {
   "codemirror_mode": {
    "name": "ipython",
    "version": 3
   },
   "file_extension": ".py",
   "mimetype": "text/x-python",
   "name": "python",
   "nbconvert_exporter": "python",
   "pygments_lexer": "ipython3",
   "version": "3.8.10"
  },
  "vscode": {
   "interpreter": {
    "hash": "916dbcbb3f70747c44a77c7bcd40155683ae19c65e1c03b4aa3499c5328201f1"
   }
  }
 },
 "nbformat": 4,
 "nbformat_minor": 4
}
