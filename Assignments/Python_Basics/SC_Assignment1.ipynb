{
 "cells": [
  {
   "cell_type": "markdown",
   "id": "1bcdf6f2",
   "metadata": {},
   "source": [
    "### Q.1 In the below elements which of them are values or an expression?\n",
    "\n",
    "eg:- values can be integer or string and expressions will be mathematical operators.\n",
    "\n",
    "* \n",
    "'hello'\n",
    "-87.8\n",
    "- \n",
    "/ \n",
    "+\t\n",
    "6 \n",
    "\n",
    "__Ans__:\n",
    "```text\n",
    "*          : expression \n",
    "'hello'    : value\n",
    "-87.8      : value\n",
    "-          : expression \n",
    "/          : expression \n",
    "+\t      : expression \n",
    "6          : value\n",
    "```"
   ]
  },
  {
   "cell_type": "markdown",
   "id": "1fdecbd1",
   "metadata": {},
   "source": [
    "### Q.2 What is the difference between string and variable?\n",
    "\n",
    "__Ans__: A string is a value representing text enclosed usually in double quotes (can be single, double or triple quotes) in python \n",
    "whereas a Variable is a store of information, and a String is a type of information you would store in a Variable. A variable can store different types of data.\n",
    "\n",
    "e.g name = \"Sumit\" (name = variable name, \"Sumit\"- String)"
   ]
  },
  {
   "cell_type": "markdown",
   "id": "08f3d567",
   "metadata": {},
   "source": [
    "### Q.3 Describe three different data types.\n",
    "\n",
    "__Ans__:\n",
    "\n",
    "1. String: A string is a data type in python which is enclosed within a single, double or triple quotes. It can also be called as a sequesnce of characters.\n",
    "\n",
    "2. Integers: This data type is used to store whole numbers. These can be positive or negative numbers.\n",
    "\n",
    "3. Boolean: It consists of True or False. This is encoded as 0 and 1 in the data where True equals 1 and False equals 0. It can be used for comparison."
   ]
  },
  {
   "cell_type": "markdown",
   "id": "61856832",
   "metadata": {},
   "source": [
    "### Q.4 What is an expression made up of? What do all expressions do?\n",
    "\n",
    "__Ans__: Expressions are a combination of operators and operands. It is used to evaluate both and return a value.\n",
    "\n",
    "e.g \n",
    "\n",
    "```python\n",
    "a = 10\n",
    "b= 20\n",
    "a + b # here a and b are operands and + is operator.\n",
    "\n",
    "a + b - 2 # Expression\n",
    "```"
   ]
  },
  {
   "cell_type": "markdown",
   "id": "9bc0bd23",
   "metadata": {},
   "source": [
    "### Q.5 This assignment statements, like spam = 10. What is the difference between an expression and a statement?\n",
    "\n",
    "__Ans__: An expression is a mathematical operation that takes place and returns a value while a statement is not performing any opration. It just prints the assigned value\n"
   ]
  },
  {
   "cell_type": "markdown",
   "id": "05c84972",
   "metadata": {},
   "source": [
    "### Q.6 After running the following code, what does the variable bacon contain?\n",
    "```python\n",
    "bacon = 22\n",
    "bacon + 1\n",
    "```\n",
    "\n",
    "__Ans__: bacon will still be 22 as we are not assigning + 1 back to bacon\n",
    "\n",
    "`bacon = 22`"
   ]
  },
  {
   "cell_type": "markdown",
   "id": "6a6a438b",
   "metadata": {},
   "source": [
    "### Q.7 What should the values of the following two terms be?\n",
    "```python\n",
    "'spam' + 'spamspam'\n",
    "'spam' * 3```\n",
    "\n",
    "__Ans__: Both will evaluate to `spamspamspam`"
   ]
  },
  {
   "cell_type": "markdown",
   "id": "252b7699",
   "metadata": {},
   "source": [
    "### Q.8 Why is eggs a valid variable name while 100 is invalid?\n",
    "\n",
    "__Ans__: As per naming convention, a variable name cannot start with a number. Therefore, 100 is invalid while eggs is a valid variable."
   ]
  },
  {
   "cell_type": "markdown",
   "id": "2d9b5288",
   "metadata": {},
   "source": [
    "### Q.9 What three functions can be used to get the integer, floating-point number, or string version of a value?\n",
    "\n",
    "__Ans__: int(), float() and str() can be used respectively.\n",
    "\n",
    "|Function|Example|Result|\n",
    "|:---:|:---:|:---:|\n",
    "|int(variable) | int(5.2) | 5 |\n",
    "|float(variable) | float(5) | 5.0 |\n",
    "|str(variable) | str(5) | '5' |"
   ]
  },
  {
   "cell_type": "markdown",
   "id": "76539784",
   "metadata": {},
   "source": [
    "### Q.10 Why does this expression cause an error? How can you fix it?\n",
    "```text\n",
    "'I have eaten ' + 99 + ' burritos.'\n",
    "```\n",
    "__Ans__: Since, 99 is an integer and other two are string, it will raise an error. To run it successfully, we can convert 99 to string using the above mentioned function.\n",
    "\n",
    "`'I have eaten ' + str(99) + ' burritos.'`\n"
   ]
  },
  {
   "cell_type": "code",
   "execution_count": 3,
   "id": "3165389e",
   "metadata": {},
   "outputs": [
    {
     "data": {
      "text/plain": [
       "'I have eaten 99 burritos.'"
      ]
     },
     "execution_count": 3,
     "metadata": {},
     "output_type": "execute_result"
    }
   ],
   "source": [
    "'I have eaten ' + str(99) + ' burritos.'"
   ]
  }
 ],
 "metadata": {
  "kernelspec": {
   "display_name": "Python 3",
   "language": "python",
   "name": "python3"
  },
  "language_info": {
   "codemirror_mode": {
    "name": "ipython",
    "version": 3
   },
   "file_extension": ".py",
   "mimetype": "text/x-python",
   "name": "python",
   "nbconvert_exporter": "python",
   "pygments_lexer": "ipython3",
   "version": "3.8.8"
  }
 },
 "nbformat": 4,
 "nbformat_minor": 5
}
