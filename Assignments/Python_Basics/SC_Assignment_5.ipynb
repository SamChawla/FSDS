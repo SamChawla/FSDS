{
 "cells": [
  {
   "cell_type": "markdown",
   "metadata": {},
   "source": [
    "### Q.1. What does an empty dictionary's code look like?\n",
    "\n",
    "__Ans__: An empty dictionary is often represented by two empty curly brackets.\n",
    "For example:\n",
    "```python\n",
    "empty_dict = {}\n",
    "empty_dict1 = dict()\n",
    "```"
   ]
  },
  {
   "cell_type": "markdown",
   "metadata": {},
   "source": [
    "### Q.2. what is the value of dictionary value with key 'foo' and the value 42 ?\n",
    "\n",
    "__Ans__: `{'foo':42}`"
   ]
  },
  {
   "cell_type": "markdown",
   "metadata": {},
   "source": [
    "### Q.3. What is the most significant distinction between a dictionary and a list?\n",
    "\n",
    "__Ans__: The major distinction is in their structure and the way they store and organize data.\n",
    "\n",
    "The items in a list are stored in a sequential manner and can be accessed by their index number while dictionary is an unordered collection of key-value pairs and it does not maintain any particular order of its items, and the elements are accessed by their keys rather than their index."
   ]
  },
  {
   "cell_type": "markdown",
   "metadata": {},
   "source": [
    "### Q.4. What happens if you try to access spam ['foo'] if spam is {'bar':100} ?\n",
    "\n",
    "__Ans__: It will throw key error : `KeyError: 'foo'`"
   ]
  },
  {
   "cell_type": "markdown",
   "metadata": {},
   "source": [
    "### Q.5. if a dictionary is stored in spam,what is the difference between the expressions 'cat' in spam and 'cat' in spam.keys() ?\n",
    "\n",
    "__Ans__: There is no difference. Both expressions will check if the key exists in the dictionary."
   ]
  },
  {
   "cell_type": "markdown",
   "metadata": {},
   "source": [
    "### Q.6. if a dictionary is stored in spam, what is the difference between the expressions 'cat' in spam and 'cat' in spam.values() ?\n",
    "\n",
    "__Ans__: Both are different in terms of checking.\n",
    "- `'cat' in spam` checks whether there is a `'cat'` key in the dictionary, while \n",
    "- `'cat' in spam.values()` checks whether there is a value `'cat'` in spam values."
   ]
  },
  {
   "cell_type": "markdown",
   "metadata": {},
   "source": [
    "### Q.7. what is a shortcut for the following code ?\n",
    "```python\n",
    "if 'color' not in spam:\n",
    "    spam['color'] ='black'`\n",
    "```\n",
    "\n",
    "__Ans__: `spam.setdefault('color','black')`"
   ]
  },
  {
   "cell_type": "markdown",
   "metadata": {},
   "source": [
    "### Q.8. How do you 'pretty print' dictionary values using which modules and function ?\n",
    "\n",
    "__Ans__: we can pretty print a dictionary using multiple ways:\n",
    "\n",
    "-  Using  built-in `json` module's `dumps` function with the `indent` parameter. \n",
    "\n",
    "```python\n",
    "import json\n",
    "\n",
    "my_dict = {'name': 'Sumit', 'country': 'India'}\n",
    "\n",
    "print(json.dumps(my_dict, indent=4))\n",
    "```\n",
    "output:\n",
    "\n",
    "```python\n",
    "{\n",
    "    \"name\": \"Sumit\",\n",
    "    \"country\": \"India\"\n",
    "}\n",
    "```\n",
    "---\n",
    "- Using `pprint` function from the `pprint` module:\n",
    "\n",
    "```python\n",
    "from pprint import pprint\n",
    "\n",
    "my_dict = {'name': 'Sumit', 'country': 'India'}\n",
    "\n",
    "pprint(my_dict)\n",
    "```\n",
    "output:\n",
    "```python\n",
    "{'country': 'India', 'name': 'Sumit'}\n",
    "```\n",
    "\n",
    "and other modules like using `dumps` from yaml module.\n"
   ]
  }
 ],
 "metadata": {
  "kernelspec": {
   "display_name": "Python 3 (ipykernel)",
   "language": "python",
   "name": "python3"
  },
  "language_info": {
   "codemirror_mode": {
    "name": "ipython",
    "version": 3
   },
   "file_extension": ".py",
   "mimetype": "text/x-python",
   "name": "python",
   "nbconvert_exporter": "python",
   "pygments_lexer": "ipython3",
   "version": "3.8.10"
  }
 },
 "nbformat": 4,
 "nbformat_minor": 4
}
