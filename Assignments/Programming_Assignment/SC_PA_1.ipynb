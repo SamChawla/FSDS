{
 "cells": [
  {
   "cell_type": "code",
   "execution_count": 6,
   "id": "bb42fea7",
   "metadata": {},
   "outputs": [
    {
     "name": "stdout",
     "output_type": "stream",
     "text": [
      "Hello Python\n"
     ]
    }
   ],
   "source": [
    "# Write a Python program to print \"Hello Python\"?\n",
    "\n",
    "def display(word):\n",
    "    print(word)\n",
    "\n",
    "display(\"Hello Python\")"
   ]
  },
  {
   "cell_type": "code",
   "execution_count": 8,
   "id": "a9a32762",
   "metadata": {},
   "outputs": [
    {
     "name": "stdout",
     "output_type": "stream",
     "text": [
      "Enter non-zero integer for addition and division1\n",
      "Enter non-zero integer for addition and division0\n",
      "Addition of 1 and 0 is: 1\n",
      "Division by 0 is not allowed\n"
     ]
    }
   ],
   "source": [
    "# Write a Python program to do arithmetical operations addition and division.?\n",
    "\n",
    "a = int(input(\"Enter non-zero integer for addition and division\"))\n",
    "b = int(input(\"Enter non-zero integer for addition and division\"))\n",
    "\n",
    "print(f\"Addition of {a} and {b} is: {a+b}\")\n",
    "\n",
    "try:\n",
    "    print(f\"Division of {a} by {b} is: {a/b}\")\n",
    "except ZeroDivisionError:\n",
    "    print(\"Division by 0 is not allowed\")"
   ]
  },
  {
   "cell_type": "code",
   "execution_count": 11,
   "id": "b80bfb1c",
   "metadata": {},
   "outputs": [
    {
     "name": "stdout",
     "output_type": "stream",
     "text": [
      "Enter integrer/float values for sides of a triangle\n",
      "Enter side A: 2\n",
      "Enter side B: 3\n",
      "Enter side C: 4\n",
      "The area of the triangle is 2.90\n"
     ]
    }
   ],
   "source": [
    "# Write a Python program to find the area of a triangle?\n",
    "\n",
    "print(\"Enter integrer/float values for sides of a triangle\")\n",
    "a = float(input(\"Enter side A: \"))  \n",
    "b = float(input(\"Enter side B: \"))  \n",
    "c = float(input(\"Enter side C: \"))  \n",
    "\n",
    "# calculate the semi-perimeter  \n",
    "s = (a + b + c) / 2  \n",
    "  \n",
    "# calculate the area  \n",
    "area = (s*(s-a)*(s-b)*(s-c)) ** 0.5\n",
    "\n",
    "print(\"The area of the triangle is %0.2f\" %area)  "
   ]
  },
  {
   "cell_type": "code",
   "execution_count": 13,
   "id": "fe2139de",
   "metadata": {},
   "outputs": [
    {
     "name": "stdout",
     "output_type": "stream",
     "text": [
      "Enter First Variable: 1\n",
      "Enter Second Variable: s\n",
      "Variables before Swap:  1 s\n",
      "Variables after Swap:  s 1\n"
     ]
    }
   ],
   "source": [
    "# Write a Python program to swap two variables?\n",
    "\n",
    "a = input(\"Enter First Variable: \")\n",
    "b = input(\"Enter Second Variable: \")\n",
    "\n",
    "print(\"Variables before Swap: \", a, b)\n",
    "\n",
    "#Swap\n",
    "a,b = b,a\n",
    "\n",
    "print(\"Variables after Swap: \", a, b)"
   ]
  },
  {
   "cell_type": "code",
   "execution_count": 14,
   "id": "c870f7f6",
   "metadata": {},
   "outputs": [
    {
     "name": "stdout",
     "output_type": "stream",
     "text": [
      "0.48671220631094403\n",
      "18\n"
     ]
    }
   ],
   "source": [
    "# Write a Python program to generate a random number?\n",
    "\n",
    "import random\n",
    "n = random.random()\n",
    "\n",
    "print(n)\n",
    "\n",
    "# Random integer number within a range\n",
    "n = random.randint(0,22)\n",
    "print(n)\n"
   ]
  }
 ],
 "metadata": {
  "kernelspec": {
   "display_name": "Python 3",
   "language": "python",
   "name": "python3"
  },
  "language_info": {
   "codemirror_mode": {
    "name": "ipython",
    "version": 3
   },
   "file_extension": ".py",
   "mimetype": "text/x-python",
   "name": "python",
   "nbconvert_exporter": "python",
   "pygments_lexer": "ipython3",
   "version": "3.8.8"
  }
 },
 "nbformat": 4,
 "nbformat_minor": 5
}
